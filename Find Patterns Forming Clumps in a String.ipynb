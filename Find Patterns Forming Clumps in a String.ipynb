{
 "cells": [
  {
   "cell_type": "code",
   "execution_count": 40,
   "metadata": {},
   "outputs": [
    {
     "name": "stdout",
     "output_type": "stream",
     "text": [
      "CGACA\n",
      "AATGT\n",
      "GAAGA\n"
     ]
    }
   ],
   "source": [
    "s1=\"CGGACTCGACAGATGTGAAGAAATGTGAAGACTGAGTGAAGAGAAGAGGAAACACGACACGACATTGCGACATAATGTACGAATGTAATGTGCCTATGGC\"\n",
    "\n",
    "a,b,c=5,75,4\n",
    "\n",
    "str=[]\n",
    "\n",
    "for i in range(len(s1)-a+1):\n",
    "    s=s1[i:i+a]\n",
    "    str.append(s)\n",
    "\n",
    "str1=set(str)\n",
    "\n",
    "s2=[]\n",
    "for i in str1:\n",
    "    f=0\n",
    "    for j in str:\n",
    "        if i==j:\n",
    "            f+=1   \n",
    "    if f>=c:\n",
    "        print(i)\n",
    "\n",
    "\n"
   ]
  },
  {
   "cell_type": "code",
   "execution_count": null,
   "metadata": {},
   "outputs": [],
   "source": []
  }
 ],
 "metadata": {
  "kernelspec": {
   "display_name": "Python 3",
   "language": "python",
   "name": "python3"
  },
  "language_info": {
   "codemirror_mode": {
    "name": "ipython",
    "version": 3
   },
   "file_extension": ".py",
   "mimetype": "text/x-python",
   "name": "python",
   "nbconvert_exporter": "python",
   "pygments_lexer": "ipython3",
   "version": "3.7.1"
  }
 },
 "nbformat": 4,
 "nbformat_minor": 2
}
