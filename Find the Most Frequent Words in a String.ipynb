{
 "cells": [
  {
   "cell_type": "code",
   "execution_count": 112,
   "metadata": {},
   "outputs": [
    {
     "name": "stdout",
     "output_type": "stream",
     "text": [
      "GCAT\n",
      "CATG\n"
     ]
    }
   ],
   "source": [
    "\n",
    "str=\"ACGTTGCATGTCGCATGATGCATGAGAGCT\"\n",
    "a=4\n",
    "str1=[]\n",
    "\n",
    "for i in range(len(str)-a+1):\n",
    "    st=str[i:i+a]\n",
    "    str1.append(st)\n",
    "    \n",
    "counts = dict()    #counts = {}\n",
    "\n",
    "for i in str1:\n",
    "    if i in counts:\n",
    "        counts[i]+=1\n",
    "    else:\n",
    "        counts[i]=1\n",
    "\n",
    "        \n",
    "x = sorted(counts.items() , reverse=True, key=lambda x: x[1])\n",
    "c=0\n",
    "for i in x:\n",
    "    if x[c][1]==x[c+1][1]:\n",
    "        print(x[c][0])\n",
    "    else:\n",
    "        print(x[c][0])\n",
    "        break\n",
    "    c+=1\n"
   ]
  },
  {
   "cell_type": "code",
   "execution_count": 131,
   "metadata": {},
   "outputs": [
    {
     "name": "stdout",
     "output_type": "stream",
     "text": [
      "GCAT\n",
      "CATG\n"
     ]
    }
   ],
   "source": [
    "str=\"ACGTTGCATGTCGCATGATGCATGAGAGCT\"\n",
    "a=4\n",
    "string={}\n",
    "\n",
    "for i in range(len(str)-a+1):\n",
    "    st=str[i:i+a]\n",
    "    if st not in string:\n",
    "        string[st]=1\n",
    "    else:\n",
    "        string[st]+=1\n",
    "\n",
    "max_value=max(string.values())\n",
    "\n",
    "for i,j in string.items():\n",
    "    if j==max_value:\n",
    "        print(i)"
   ]
  },
  {
   "cell_type": "code",
   "execution_count": null,
   "metadata": {},
   "outputs": [],
   "source": []
  }
 ],
 "metadata": {
  "kernelspec": {
   "display_name": "Python 3",
   "language": "python",
   "name": "python3"
  },
  "language_info": {
   "codemirror_mode": {
    "name": "ipython",
    "version": 3
   },
   "file_extension": ".py",
   "mimetype": "text/x-python",
   "name": "python",
   "nbconvert_exporter": "python",
   "pygments_lexer": "ipython3",
   "version": "3.7.1"
  }
 },
 "nbformat": 4,
 "nbformat_minor": 2
}
