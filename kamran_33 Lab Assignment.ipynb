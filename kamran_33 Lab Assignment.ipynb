{
 "cells": [
  {
   "cell_type": "markdown",
   "metadata": {},
   "source": [
    "# Problem: BA3A"
   ]
  },
  {
   "cell_type": "code",
   "execution_count": 1,
   "metadata": {
    "scrolled": true
   },
   "outputs": [
    {
     "name": "stdout",
     "output_type": "stream",
     "text": [
      "AATCC\n",
      "ATCCA\n",
      "CAATC\n",
      "CCAAC\n",
      "TCCAA\n"
     ]
    }
   ],
   "source": [
    "#AC\n",
    "a = open(\"BA3A.txt\",'r').read()\n",
    "x=5\n",
    "arr=[]\n",
    "for i in range(len(a)-x+1):\n",
    "    arr.append(a[i:i+x])\n",
    "arr.sort()\n",
    "print('\\n'.join(arr))"
   ]
  },
  {
   "cell_type": "markdown",
   "metadata": {},
   "source": [
    "# Problem:  BA3B"
   ]
  },
  {
   "cell_type": "code",
   "execution_count": 2,
   "metadata": {},
   "outputs": [
    {
     "name": "stdout",
     "output_type": "stream",
     "text": [
      "ACCGAAGCT\n"
     ]
    }
   ],
   "source": [
    "#AC\n",
    "a = open(\"BA3B.txt\",'r').read().splitlines()\n",
    "ar=[]\n",
    "for i in a:\n",
    "    ar.append(i)\n",
    "\n",
    "arr=''.join(ar[0]);\n",
    "for i in range(1,len(ar)):\n",
    "    p=ar[i][len(ar[0])-1]\n",
    "    arr+=''.join(p)\n",
    "    \n",
    "print(arr)"
   ]
  },
  {
   "cell_type": "markdown",
   "metadata": {},
   "source": [
    "# Problem: BA6A"
   ]
  },
  {
   "cell_type": "code",
   "execution_count": 3,
   "metadata": {},
   "outputs": [
    {
     "name": "stdout",
     "output_type": "stream",
     "text": [
      "(-1 -4 +3 +5 -2)\n",
      "(+1 -4 +3 +5 -2)\n",
      "(+1 +2 -5 -3 +4)\n",
      "(+1 +2 +3 +5 +4)\n",
      "(+1 +2 +3 -4 -5)\n",
      "(+1 +2 +3 +4 -5)\n",
      "(+1 +2 +3 +4 +5)\n"
     ]
    }
   ],
   "source": [
    "a = open(\"BA6A.txt\",'r').read()\n",
    "ar=a[1:len(a)-1].rstrip().split()\n",
    "\n",
    "for i in range(0,len(ar)):\n",
    "    for j in range(i,len(ar)):\n",
    "        if str(i+1) == ar[j][1:len(ar[j])]:\n",
    "            ar=ar[:i]+ar[i:j+1][::-1]+ar[j+1:]\n",
    "            for k in range(i,j+1):\n",
    "                if '-' == ar[k][0]:\n",
    "                    ar[k]=ar[k].replace('-', '+')\n",
    "                else:\n",
    "                    ar[k]=ar[k].replace('+', '-')  \n",
    "            print(\"(\" + \" \".join(ar) + \")\")\n",
    "            if '-' == ar[i][0]:\n",
    "                ar[i]=ar[i].replace('-', '+')\n",
    "                print(\"(\" + \" \".join(ar) + \")\")\n"
   ]
  },
  {
   "cell_type": "markdown",
   "metadata": {},
   "source": [
    "# BA5E"
   ]
  },
  {
   "cell_type": "code",
   "execution_count": 4,
   "metadata": {},
   "outputs": [
    {
     "name": "stdout",
     "output_type": "stream",
     "text": [
      "8\n",
      "PLEASANTLY\n",
      "-MEA--N-LY\n"
     ]
    }
   ],
   "source": [
    "import numpy as np\n",
    "a = open(\"BLOSUM62.txt\",'r')\n",
    "s1=\"PLEASANTLY\"\n",
    "s2=\"MEANLY\"\n",
    "x=a.readline().rstrip().split()\n",
    "matrix1=[]\n",
    "for i in range(len(x)):\n",
    "    m=a.readline().rstrip().split()\n",
    "    list1=[int(m[i]) for i in range(1,len(m))]\n",
    "    matrix1.append(list1)\n",
    "    \n",
    "#print(matrix1)\n",
    "matrix=np.zeros((len(s2) + 1, len(s1) + 1))\n",
    "\n",
    "for i in range(1,len(s1)+1):\n",
    "    matrix[0][i]=matrix[0][i-1]-5\n",
    "for i in range(1,len(s2)+1):\n",
    "    matrix[i][0]=matrix[i-1][0]-5\n",
    "\n",
    "ar=np.zeros((len(s2) + 1, len(s1) + 1))\n",
    "for i in range(len(s2)):\n",
    "    for j in range(len(s1)):\n",
    "        a=matrix[i][j+1]-5\n",
    "        b=matrix[i+1][j]-5\n",
    "        c=matrix[i][j]+matrix1[x.index(s2[i])][x.index(s1[j])]\n",
    "        d=max(a,b,c)\n",
    "        if d==a:\n",
    "            ar[i+1][j+1]=999\n",
    "        elif d==b:\n",
    "            ar[i+1][j+1]=888\n",
    "        else:\n",
    "            ar[i+1][j+1]=777\n",
    "        matrix[i+1][j+1]=d\n",
    "        \n",
    "#print(ar)              \n",
    "x1=int(matrix[len(s2)][len(s1)])\n",
    "print(x1)\n",
    "i=len(s2)\n",
    "j=len(s1)\n",
    "x2=[]\n",
    "x3=[]\n",
    "while i!=-1 and j!=-1:\n",
    "    if ar[i][j]==777.0:\n",
    "        x2.append(s1[j-1])\n",
    "        x3.append(s2[i-1])\n",
    "        j-=1\n",
    "        i-=1\n",
    "    elif ar[i][j]==888.0:\n",
    "        j-=1\n",
    "        x2.append(s1[j])\n",
    "        x3.append(\"-\")\n",
    "    else:\n",
    "        x3.append(\"-\")\n",
    "        x2.append(s1[i])\n",
    "        i-=1\n",
    "        \n",
    "print(''.join(x2[::-1]))\n",
    "print(''.join(x3[::-1]))"
   ]
  },
  {
   "cell_type": "markdown",
   "metadata": {},
   "source": [
    "# BA5F"
   ]
  },
  {
   "cell_type": "code",
   "execution_count": 5,
   "metadata": {},
   "outputs": [
    {
     "name": "stdout",
     "output_type": "stream",
     "text": [
      "15\n",
      "EANL-Y\n",
      "ENALTY\n"
     ]
    }
   ],
   "source": [
    "import numpy as np\n",
    "a = open(\"PAM250.txt\",'r')\n",
    "s1=\"MEANLY\"\n",
    "s2=\"PENALTY\"\n",
    "x=a.readline().rstrip().split()\n",
    "matrix1=[]\n",
    "for i in range(len(x)):\n",
    "    m=a.readline().rstrip().split()\n",
    "    list1=[int(m[i]) for i in range(1,len(m))]\n",
    "    matrix1.append(list1)\n",
    "    \n",
    "#print(matrix1)\n",
    "matrix=np.zeros((len(s2) + 1, len(s1) + 1))\n",
    "\n",
    "for i in range(1,len(s1)+1):\n",
    "    matrix[0][i]=-5*i\n",
    "for i in range(1,len(s2)+1):\n",
    "    matrix[i][0]=-5*i\n",
    "    \n",
    "#print(matrix)\n",
    "ar=np.zeros((len(s2) + 1, len(s1) + 1))\n",
    "sc=0\n",
    "m1,m2=0,0\n",
    "for i in range(len(s2)):\n",
    "    for j in range(len(s1)):\n",
    "        a=matrix[i][j+1]-5\n",
    "        b=matrix[i+1][j]-5\n",
    "        c=matrix[i][j]+matrix1[x.index(s2[i])][x.index(s1[j])]\n",
    "        d=max(0,a,b,c)\n",
    "        #sc=max(sc,d)\n",
    "        if d>sc:\n",
    "            m1=i+1\n",
    "            m2=j+1\n",
    "            sc=d\n",
    "        matrix[i+1][j+1]=d    \n",
    "        if d==c:\n",
    "            ar[i+1][j+1]=666\n",
    "        elif d==b:\n",
    "            ar[i+1][j+1]=777\n",
    "        elif d==a:\n",
    "            ar[i+1][j+1]=888\n",
    "        else:\n",
    "            ar[i+1][j+1]=999\n",
    "            \n",
    "#print(ar)              \n",
    "print(int(sc))\n",
    "i=m1\n",
    "j=m2\n",
    "x2=[]\n",
    "x3=[]\n",
    "while i!=-1 and j!=-1:\n",
    "    if ar[i][j]==666.0:\n",
    "        x2.append(s1[j-1])\n",
    "        x3.append(s2[i-1])\n",
    "        j-=1\n",
    "        i-=1\n",
    "    elif ar[i][j]==777.0:\n",
    "        j=j-1\n",
    "        x2.append(s1[j])\n",
    "        x3.append(\"-\")\n",
    "    elif ar[i][j]==888.0:\n",
    "        i=i-1\n",
    "        x2.append(\"-\")\n",
    "        x3.append(s2[j])\n",
    "    else:\n",
    "        break\n",
    "        \n",
    "print(''.join(x2[::-1]))\n",
    "print(''.join(x3[::-1]))"
   ]
  },
  {
   "cell_type": "markdown",
   "metadata": {},
   "source": [
    "# BA2G"
   ]
  },
  {
   "cell_type": "code",
   "execution_count": 11,
   "metadata": {},
   "outputs": [
    {
     "name": "stdout",
     "output_type": "stream",
     "text": [
      "CGCCCCTCTCGGGGGTGTTCAGTAAACGGCCA GGGCGAGGTATGTGTAAGTGCCAAGGTGCCAG TAGTACCGAGACCGAAAGAAGTATACAGGCGT TAGATCAAGTTTCAGGTGCACGTCGGTGAACC AATCCACCAGCTCCACGTGCAATGTTGGCCTA\n",
      "TCTCGGGG\n",
      "CCAAGGTG\n",
      "TACAGGCG\n",
      "TTCAGGTG\n",
      "TCCACGTG\n"
     ]
    }
   ],
   "source": [
    "#AC\n",
    "import random\n",
    "\n",
    "def Motif(profile, x, k):\n",
    "    ar = []\n",
    "    for i in range(len(x) - k + 1):\n",
    "        Sum = 1\n",
    "        for j in range(k):\n",
    "            Sum *= (profile[j][x[i+j]])\n",
    "        ar.append(Sum)\n",
    "    return ar\n",
    "\n",
    "def Profile(M, k):\n",
    "    ar = []\n",
    "    for i in range(k):\n",
    "        for j in range(len(M)):\n",
    "            if j == 0:\n",
    "                ar.append({ 'A': 1, 'T': 1, 'C': 1, 'G': 1 })\n",
    "            ar[i][M[j][i]] += 1\n",
    "    return ar\n",
    "\n",
    "def Score(Motifs, k, t):\n",
    "    profile = Profile(Motifs, k)\n",
    "    score = 0\n",
    "    for a in range(len(profile)):\n",
    "        score += (4 + t - profile[a][max(profile[a], key=profile[a].get)])\n",
    "    return score\n",
    "\n",
    "def GS(Dna, k, t, N):\n",
    "    Motifs = []\n",
    "    for i in Dna:\n",
    "        x = random.randrange(0,len(i)-k)\n",
    "        Motifs.append(i[x:x+k])\n",
    "    BM = list(Motifs)\n",
    "    for j in range(N):\n",
    "        i = random.randrange(0, t - 1)\n",
    "        Motifs.pop(i)\n",
    "        profile = Profile(Motifs, k)\n",
    "        te = Motif(profile, Dna[i], k)\n",
    "        index = random.choices(list(range(0, len(Dna[i]) - k + 1)), te)\n",
    "        Motifs.insert(i, Dna[i][index[0]:index[0] + k])\n",
    "        if Score(Motifs, k, t) < Score(BM, k, t):\n",
    "            BM = list(Motifs)\n",
    "    return BM\n",
    "\n",
    "\n",
    "k,t,N=8,5,100\n",
    "Dna = input();     #Input DNA String\n",
    "Dna = Dna.split()\n",
    "BM = GS(Dna, k, t, N)\n",
    "for i in range(0, 20):\n",
    "    Motifs = GS(Dna, k, t, N)\n",
    "    if Score(Motifs, k, t) < Score(BM, k, t):\n",
    "        BM = Motifs\n",
    "print('\\n'.join(BM))"
   ]
  },
  {
   "cell_type": "code",
   "execution_count": null,
   "metadata": {},
   "outputs": [],
   "source": []
  },
  {
   "cell_type": "code",
   "execution_count": null,
   "metadata": {},
   "outputs": [],
   "source": []
  }
 ],
 "metadata": {
  "kernelspec": {
   "display_name": "Python 3",
   "language": "python",
   "name": "python3"
  },
  "language_info": {
   "codemirror_mode": {
    "name": "ipython",
    "version": 3
   },
   "file_extension": ".py",
   "mimetype": "text/x-python",
   "name": "python",
   "nbconvert_exporter": "python",
   "pygments_lexer": "ipython3",
   "version": "3.7.4"
  }
 },
 "nbformat": 4,
 "nbformat_minor": 2
}
