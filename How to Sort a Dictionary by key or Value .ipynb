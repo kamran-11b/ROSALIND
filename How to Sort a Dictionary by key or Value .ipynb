{
 "cells": [
  {
   "cell_type": "code",
   "execution_count": 7,
   "metadata": {},
   "outputs": [],
   "source": [
    "# Dictionary of strings and ints\n",
    "wordsFreqDict = {\n",
    "    \"hello\": 56,\n",
    "    \"at\" : 23 ,\n",
    "    \"test\" : 43,\n",
    "    \"this\" : 43\n",
    "    }"
   ]
  },
  {
   "cell_type": "code",
   "execution_count": 8,
   "metadata": {},
   "outputs": [
    {
     "name": "stdout",
     "output_type": "stream",
     "text": [
      "dict_items([('hello', 56), ('at', 23), ('test', 43), ('this', 43)])\n",
      "dict_keys(['hello', 'at', 'test', 'this'])\n",
      "dict_values([56, 23, 43, 43])\n"
     ]
    }
   ],
   "source": [
    "print(wordsFreqDict.items())\n",
    "\n",
    "print(wordsFreqDict.keys())\n",
    "\n",
    "print(wordsFreqDict.values())"
   ]
  },
  {
   "cell_type": "code",
   "execution_count": 12,
   "metadata": {},
   "outputs": [
    {
     "name": "stdout",
     "output_type": "stream",
     "text": [
      "[('at', 23), ('hello', 56), ('test', 43), ('this', 43)]\n",
      "['at', 'hello', 'test', 'this']\n",
      "[23, 43, 43, 56]\n"
     ]
    }
   ],
   "source": [
    "# sort\n",
    "\n",
    "print(sorted(wordsFreqDict.items()))\n",
    "\n",
    "print(sorted(wordsFreqDict.keys()))\n",
    "\n",
    "print(sorted(wordsFreqDict.values()))"
   ]
  },
  {
   "cell_type": "markdown",
   "metadata": {},
   "source": [
    "# Key"
   ]
  },
  {
   "cell_type": "code",
   "execution_count": 18,
   "metadata": {},
   "outputs": [
    {
     "name": "stdout",
     "output_type": "stream",
     "text": [
      "at  :  23\n",
      "hello  :  56\n",
      "test  :  43\n",
      "this  :  43\n",
      "at  ::  23\n",
      "hello  ::  56\n",
      "test  ::  43\n",
      "this  ::  43\n"
     ]
    },
    {
     "data": {
      "text/plain": [
       "[None, None, None, None]"
      ]
     },
     "execution_count": 18,
     "metadata": {},
     "output_type": "execute_result"
    }
   ],
   "source": [
    "'''\n",
    " Iterate over a  list of tuple i.e. key / value pairs, sorted by default 0th index i.e. key\n",
    " and print the key value pairs in sorted order of keys\n",
    "'''\n",
    "for elem in sorted(wordsFreqDict.items()) :\n",
    "    print(elem[0] , \" : \" , elem[1] )\n",
    "    \n",
    "\n",
    "# Print the sorted key value pairs of dictionary using list comprehension\n",
    "\n",
    "[ print(key , \" :: \" , value) for (key, value) in sorted(wordsFreqDict.items()) ]\n"
   ]
  },
  {
   "cell_type": "code",
   "execution_count": 19,
   "metadata": {},
   "outputs": [
    {
     "name": "stdout",
     "output_type": "stream",
     "text": [
      "this  :: 43\n",
      "test  :: 43\n",
      "hello  :: 56\n",
      "at  :: 23\n"
     ]
    }
   ],
   "source": [
    "'''\n",
    "Iterate over the list of tuples sorted by 0th index i.e. value in reverse order \n",
    "'''\n",
    "for elem in sorted(wordsFreqDict.items(), reverse=True) :\n",
    "    print(elem[0] , \" ::\" , elem[1] )"
   ]
  },
  {
   "cell_type": "markdown",
   "metadata": {},
   "source": [
    "# Value"
   ]
  },
  {
   "cell_type": "code",
   "execution_count": 20,
   "metadata": {},
   "outputs": [
    {
     "name": "stdout",
     "output_type": "stream",
     "text": [
      "at  :: 23\n",
      "test  :: 43\n",
      "this  :: 43\n",
      "hello  :: 56\n"
     ]
    }
   ],
   "source": [
    "\n",
    "# Create a list of tuples sorted by index 1 i.e. value field     \n",
    "listofTuples = sorted(wordsFreqDict.items() ,  key=lambda x: x[1])\n",
    " \n",
    "# Iterate over the sorted sequence\n",
    "for elem in listofTuples :\n",
    "    print(elem[0] , \" ::\" , elem[1] )"
   ]
  },
  {
   "cell_type": "code",
   "execution_count": 21,
   "metadata": {},
   "outputs": [
    {
     "name": "stdout",
     "output_type": "stream",
     "text": [
      "at  ::  23\n",
      "test  ::  43\n",
      "this  ::  43\n",
      "hello  ::  56\n"
     ]
    },
    {
     "data": {
      "text/plain": [
       "[None, None, None, None]"
      ]
     },
     "execution_count": 21,
     "metadata": {},
     "output_type": "execute_result"
    }
   ],
   "source": [
    "\n",
    "\n",
    "# Use List comprehension to print the contents of dictionary , sorted by value\n",
    "[ print(key , \" :: \" , value) for (key, value) in sorted(wordsFreqDict.items() ,  key=lambda x: x[1]  ) ]\n",
    "\n"
   ]
  },
  {
   "cell_type": "code",
   "execution_count": 22,
   "metadata": {},
   "outputs": [
    {
     "name": "stdout",
     "output_type": "stream",
     "text": [
      "hello  :: 56\n",
      "test  :: 43\n",
      "this  :: 43\n",
      "at  :: 23\n"
     ]
    }
   ],
   "source": [
    "\n",
    "# Create a list of tuples sorted by index 1 i.e. value field     \n",
    "listofTuples = sorted(wordsFreqDict.items() , reverse=True, key=lambda x: x[1])\n",
    " \n",
    "# Iterate over the sorted sequence\n",
    "for elem in listofTuples :\n",
    "    print(elem[0] , \" ::\" , elem[1] ) "
   ]
  },
  {
   "cell_type": "code",
   "execution_count": null,
   "metadata": {},
   "outputs": [],
   "source": []
  }
 ],
 "metadata": {
  "kernelspec": {
   "display_name": "Python 3",
   "language": "python",
   "name": "python3"
  },
  "language_info": {
   "codemirror_mode": {
    "name": "ipython",
    "version": 3
   },
   "file_extension": ".py",
   "mimetype": "text/x-python",
   "name": "python",
   "nbconvert_exporter": "python",
   "pygments_lexer": "ipython3",
   "version": "3.7.1"
  }
 },
 "nbformat": 4,
 "nbformat_minor": 2
}
